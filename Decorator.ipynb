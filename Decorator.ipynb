{
  "nbformat": 4,
  "nbformat_minor": 0,
  "metadata": {
    "colab": {
      "name": "Decorator.ipynb",
      "provenance": [],
      "authorship_tag": "ABX9TyOiTq+ne5JeaLcJHGyFA9qJ",
      "include_colab_link": true
    },
    "kernelspec": {
      "name": "python3",
      "display_name": "Python 3"
    }
  },
  "cells": [
    {
      "cell_type": "markdown",
      "metadata": {
        "id": "view-in-github",
        "colab_type": "text"
      },
      "source": [
        "<a href=\"https://colab.research.google.com/github/linghduoduo/Machine_Learning/blob/master/Decorator.ipynb\" target=\"_parent\"><img src=\"https://colab.research.google.com/assets/colab-badge.svg\" alt=\"Open In Colab\"/></a>"
      ]
    },
    {
      "cell_type": "code",
      "metadata": {
        "id": "ryssAyH_L6zY"
      },
      "source": [
        "def decorator(func):\n",
        "  def wrapper(*args, **kw):\n",
        "    return func()\n",
        "  return wrapper"
      ],
      "execution_count": 1,
      "outputs": []
    },
    {
      "cell_type": "code",
      "metadata": {
        "id": "FQC32r0FMG-F"
      },
      "source": [
        "@decorator\n",
        "def function():\n",
        "  print(\"hello, decorator\")"
      ],
      "execution_count": 2,
      "outputs": []
    },
    {
      "cell_type": "code",
      "metadata": {
        "colab": {
          "base_uri": "https://localhost:8080/"
        },
        "id": "y6-I887wMVvB",
        "outputId": "9e8a7d24-1443-46f6-8c2f-5b2a68070429"
      },
      "source": [
        "function()"
      ],
      "execution_count": 3,
      "outputs": [
        {
          "output_type": "stream",
          "text": [
            "hello, decorator\n"
          ],
          "name": "stdout"
        }
      ]
    },
    {
      "cell_type": "markdown",
      "metadata": {
        "id": "nK5UJFFbMtWE"
      },
      "source": [
        "### First Type "
      ]
    },
    {
      "cell_type": "code",
      "metadata": {
        "id": "XPZmgklUMrZ7"
      },
      "source": [
        "# 这是装饰器函数，参数 func 是被装饰的函数\n",
        "def logger(func):\n",
        "  def wrapper(*args, **kw):\n",
        "    print(\"I am ready to run : {} function\".format(func.__name__))\n",
        "\n",
        "    func(*args, **kw)\n",
        "\n",
        "    print(\"Done\")\n",
        "  return wrapper"
      ],
      "execution_count": 5,
      "outputs": []
    },
    {
      "cell_type": "code",
      "metadata": {
        "id": "b-C1akaINP1B"
      },
      "source": [
        "@logger\n",
        "def add(x, y):\n",
        "  print(\"{} + {} = {}\".format(x, y, x+y))"
      ],
      "execution_count": 6,
      "outputs": []
    },
    {
      "cell_type": "code",
      "metadata": {
        "colab": {
          "base_uri": "https://localhost:8080/"
        },
        "id": "nAEANczDNdZS",
        "outputId": "974e5e03-1ded-4178-9b4c-5241b0491562"
      },
      "source": [
        "add(200, 500)"
      ],
      "execution_count": 7,
      "outputs": [
        {
          "output_type": "stream",
          "text": [
            "I am ready to run : add function\n",
            "200 + 500 = 700\n",
            "Done\n"
          ],
          "name": "stdout"
        }
      ]
    },
    {
      "cell_type": "markdown",
      "metadata": {
        "id": "RrY2wsloN04s"
      },
      "source": [
        "### Second Type"
      ]
    },
    {
      "cell_type": "code",
      "metadata": {
        "id": "6SJzGZqkN-5t"
      },
      "source": [
        "def say_hello(contry):\n",
        "    def wrapper(func):\n",
        "        def deco(*args, **kwargs):\n",
        "            if contry == \"china\":\n",
        "                print(\"你好!\")\n",
        "            elif contry == \"america\":\n",
        "                print('hello.')\n",
        "            else:\n",
        "                return\n",
        "\n",
        "            # 真正执行函数的地方\n",
        "            func(*args, **kwargs)\n",
        "        return deco\n",
        "    return wrapper"
      ],
      "execution_count": 10,
      "outputs": []
    },
    {
      "cell_type": "code",
      "metadata": {
        "id": "sI0ZzkGQOPnW"
      },
      "source": [
        "# 小明，中国人\n",
        "@say_hello(\"china\")\n",
        "def xiaoming():\n",
        "    pass\n",
        "\n",
        "# jack，美国人\n",
        "@say_hello(\"america\")\n",
        "def jack():\n",
        "    pass"
      ],
      "execution_count": 11,
      "outputs": []
    },
    {
      "cell_type": "code",
      "metadata": {
        "colab": {
          "base_uri": "https://localhost:8080/"
        },
        "id": "dXPLsirTO8Oi",
        "outputId": "5cb59043-1eb5-4719-ae36-be55129cfe11"
      },
      "source": [
        "xiaoming()"
      ],
      "execution_count": 13,
      "outputs": [
        {
          "output_type": "stream",
          "text": [
            "你好!\n"
          ],
          "name": "stdout"
        }
      ]
    },
    {
      "cell_type": "code",
      "metadata": {
        "colab": {
          "base_uri": "https://localhost:8080/"
        },
        "id": "L60R4w6xO-Uv",
        "outputId": "28227746-116f-4c32-b141-b76f68619ffd"
      },
      "source": [
        "jack()"
      ],
      "execution_count": 14,
      "outputs": [
        {
          "output_type": "stream",
          "text": [
            "hello.\n"
          ],
          "name": "stdout"
        }
      ]
    },
    {
      "cell_type": "markdown",
      "metadata": {
        "id": "SASLqPdtPcnc"
      },
      "source": [
        "### Third Type"
      ]
    },
    {
      "cell_type": "code",
      "metadata": {
        "id": "qVMZSep-PfPZ"
      },
      "source": [
        "class logger(object):\n",
        "    def __init__(self, func):\n",
        "        self.func = func\n",
        "\n",
        "    def __call__(self, *args, **kwargs):\n",
        "        print(\"[INFO]: the function {func}() is running...\".format(func=self.func.__name__))\n",
        "        return self.func(*args, **kwargs)"
      ],
      "execution_count": 16,
      "outputs": []
    },
    {
      "cell_type": "code",
      "metadata": {
        "colab": {
          "base_uri": "https://localhost:8080/"
        },
        "id": "ZGiPSAHbPmt8",
        "outputId": "a4f22006-19b6-4d0e-ff01-b5db5ad59f4e"
      },
      "source": [
        "@logger\n",
        "def say(something):\n",
        "    print(\"say {}!\".format(something))\n",
        "\n",
        "say(\"hello\")"
      ],
      "execution_count": 17,
      "outputs": [
        {
          "output_type": "stream",
          "text": [
            "[INFO]: the function say() is running...\n",
            "say hello!\n"
          ],
          "name": "stdout"
        }
      ]
    },
    {
      "cell_type": "markdown",
      "metadata": {
        "id": "NGnzK6pRQCsf"
      },
      "source": [
        "### Fourth Type"
      ]
    },
    {
      "cell_type": "code",
      "metadata": {
        "id": "LUGioEYkQGp1"
      },
      "source": [
        "class logger(object):\n",
        "    def __init__(self, level='INFO'):\n",
        "        self.level = level\n",
        "\n",
        "    def __call__(self, func): # 接受函数\n",
        "        def wrapper(*args, **kwargs):\n",
        "            print(\"[{level}]: the function {func}() is running...\".format(level=self.level, func=func.__name__))\n",
        "            func(*args, **kwargs)\n",
        "        return wrapper  #返回函数"
      ],
      "execution_count": 21,
      "outputs": []
    },
    {
      "cell_type": "code",
      "metadata": {
        "colab": {
          "base_uri": "https://localhost:8080/"
        },
        "id": "UBcgZHGvQLwY",
        "outputId": "bbd58719-8eff-4122-d1e9-89b360e8eebc"
      },
      "source": [
        "@logger(level='WARNING')\n",
        "def say(something):\n",
        "    print(\"say {}!\".format(something))\n",
        "\n",
        "say(\"hello\")"
      ],
      "execution_count": 22,
      "outputs": [
        {
          "output_type": "stream",
          "text": [
            "[WARNING]: the function say() is running...\n",
            "say hello!\n"
          ],
          "name": "stdout"
        }
      ]
    },
    {
      "cell_type": "markdown",
      "metadata": {
        "id": "hn-vg0IZRZDs"
      },
      "source": [
        "### Fifth Type"
      ]
    },
    {
      "cell_type": "code",
      "metadata": {
        "id": "Da5mMnaCRdiY"
      },
      "source": [
        "import time\n",
        "import functools\n",
        "\n",
        "class DelayFunc:\n",
        "    def __init__(self,  duration, func):\n",
        "        self.duration = duration\n",
        "        self.func = func\n",
        "\n",
        "    def __call__(self, *args, **kwargs):\n",
        "        print(f'Wait for {self.duration} seconds...')\n",
        "        time.sleep(self.duration)\n",
        "        return self.func(*args, **kwargs)\n",
        "\n",
        "    def eager_call(self, *args, **kwargs):\n",
        "        print('Call without delay')\n",
        "        return self.func(*args, **kwargs)\n",
        "\n",
        "def delay(duration):\n",
        "    \"\"\"\n",
        "    装饰器：推迟某个函数的执行。\n",
        "    同时提供 .eager_call 方法立即执行\n",
        "    \"\"\"\n",
        "    # 此处为了避免定义额外函数，\n",
        "    # 直接使用 functools.partial 帮助构造 DelayFunc 实例\n",
        "    return functools.partial(DelayFunc, duration)"
      ],
      "execution_count": 23,
      "outputs": []
    },
    {
      "cell_type": "code",
      "metadata": {
        "id": "DL9VxGwgRp4M"
      },
      "source": [
        "@delay(duration=2)\n",
        "def add(a, b):\n",
        "    return a+b"
      ],
      "execution_count": 24,
      "outputs": []
    },
    {
      "cell_type": "code",
      "metadata": {
        "colab": {
          "base_uri": "https://localhost:8080/"
        },
        "id": "wvIQhYIDRwGk",
        "outputId": "9227fbde-16ed-484f-9dd0-de8c806cbe57"
      },
      "source": [
        "add(3, 5)"
      ],
      "execution_count": 25,
      "outputs": [
        {
          "output_type": "stream",
          "text": [
            "Wait for 2 seconds...\n"
          ],
          "name": "stdout"
        },
        {
          "output_type": "execute_result",
          "data": {
            "text/plain": [
              "8"
            ]
          },
          "metadata": {
            "tags": []
          },
          "execution_count": 25
        }
      ]
    },
    {
      "cell_type": "markdown",
      "metadata": {
        "id": "o7DJVKgRSW1d"
      },
      "source": [
        "### Sixth Type"
      ]
    },
    {
      "cell_type": "code",
      "metadata": {
        "id": "rJkYqXgbSgeb"
      },
      "source": [
        "instances = {}\n",
        "\n",
        "def singleton(cls):\n",
        "    def get_instance(*args, **kw):\n",
        "        cls_name = cls.__name__\n",
        "        print('===== 1 ====')\n",
        "        if not cls_name in instances:\n",
        "            print('===== 2 ====')\n",
        "            instance = cls(*args, **kw)\n",
        "            instances[cls_name] = instance\n",
        "        return instances[cls_name]\n",
        "    return get_instance\n",
        "\n",
        "@singleton\n",
        "class User:\n",
        "    _instance = None\n",
        "\n",
        "    def __init__(self, name):\n",
        "        print('===== 3 ====')\n",
        "        self.name = name\n"
      ],
      "execution_count": 26,
      "outputs": []
    },
    {
      "cell_type": "code",
      "metadata": {
        "colab": {
          "base_uri": "https://localhost:8080/"
        },
        "id": "48BECyuGSg-N",
        "outputId": "1cf0fdcb-6d39-40f3-d14f-178bd8555ef7"
      },
      "source": [
        "u1 = User(\"firstUser\")"
      ],
      "execution_count": 29,
      "outputs": [
        {
          "output_type": "stream",
          "text": [
            "===== 1 ====\n"
          ],
          "name": "stdout"
        }
      ]
    },
    {
      "cell_type": "code",
      "metadata": {
        "id": "RyhEnvpPSm-w"
      },
      "source": [
        "u1.age = 20"
      ],
      "execution_count": 30,
      "outputs": []
    },
    {
      "cell_type": "code",
      "metadata": {
        "colab": {
          "base_uri": "https://localhost:8080/"
        },
        "id": "YXIMSZhcSp1L",
        "outputId": "ee95c885-88a6-447a-898d-2a5878acb61c"
      },
      "source": [
        "u2 = User(\"firstUser\")"
      ],
      "execution_count": 31,
      "outputs": [
        {
          "output_type": "stream",
          "text": [
            "===== 1 ====\n"
          ],
          "name": "stdout"
        }
      ]
    },
    {
      "cell_type": "code",
      "metadata": {
        "colab": {
          "base_uri": "https://localhost:8080/"
        },
        "id": "ZX3q9NfXS2fs",
        "outputId": "1ee6c981-59ef-4a8d-834c-e4eea2b69b81"
      },
      "source": [
        "u2.age"
      ],
      "execution_count": 32,
      "outputs": [
        {
          "output_type": "execute_result",
          "data": {
            "text/plain": [
              "20"
            ]
          },
          "metadata": {
            "tags": []
          },
          "execution_count": 32
        }
      ]
    },
    {
      "cell_type": "code",
      "metadata": {
        "colab": {
          "base_uri": "https://localhost:8080/"
        },
        "id": "ldODoxKlS37d",
        "outputId": "35b14fa3-d7e1-4b16-ea02-15c4ed833718"
      },
      "source": [
        "u1 is u2"
      ],
      "execution_count": 33,
      "outputs": [
        {
          "output_type": "execute_result",
          "data": {
            "text/plain": [
              "True"
            ]
          },
          "metadata": {
            "tags": []
          },
          "execution_count": 33
        }
      ]
    },
    {
      "cell_type": "code",
      "metadata": {
        "id": "PcOIKKViS5pL"
      },
      "source": [
        ""
      ],
      "execution_count": null,
      "outputs": []
    }
  ]
}